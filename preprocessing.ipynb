{
 "cells": [
  {
   "cell_type": "code",
   "execution_count": 84,
   "outputs": [],
   "source": [
    "import os\n",
    "import pandas as pd"
   ],
   "metadata": {
    "collapsed": false,
    "pycharm": {
     "name": "#%%\n"
    }
   }
  },
  {
   "cell_type": "markdown",
   "source": [
    "## Reading dataset"
   ],
   "metadata": {
    "collapsed": false,
    "pycharm": {
     "name": "#%% md\n"
    }
   }
  },
  {
   "cell_type": "code",
   "execution_count": 85,
   "metadata": {
    "collapsed": true
   },
   "outputs": [],
   "source": [
    "path = \"archive/20news-19997/20_newsgroups\"\n",
    "df = []\n",
    "\n",
    "for folder in os.listdir(path):\n",
    "    for file in os.listdir(f'{path}/{folder}'):\n",
    "        f = open(f'{path}/{folder}/{file}', 'rb')\n",
    "        df.append(f.read())"
   ]
  },
  {
   "cell_type": "code",
   "execution_count": 86,
   "outputs": [
    {
     "name": "stdout",
     "output_type": "stream",
     "text": [
      "<class 'pandas.core.frame.DataFrame'>\n",
      "RangeIndex: 19997 entries, 0 to 19996\n",
      "Data columns (total 1 columns):\n",
      " #   Column  Non-Null Count  Dtype \n",
      "---  ------  --------------  ----- \n",
      " 0   0       19997 non-null  object\n",
      "dtypes: object(1)\n",
      "memory usage: 156.4+ KB\n"
     ]
    }
   ],
   "source": [
    "df = pd.DataFrame(df)\n",
    "df.info()"
   ],
   "metadata": {
    "collapsed": false,
    "pycharm": {
     "name": "#%%\n"
    }
   }
  },
  {
   "cell_type": "code",
   "execution_count": 87,
   "outputs": [
    {
     "data": {
      "text/plain": "                                                   0\n0  b\"Newsgroups: sci.space\\nPath: cantaloupe.srv....\n1  b'Newsgroups: sci.space\\nPath: cantaloupe.srv....\n2  b\"Newsgroups: sci.space\\nPath: cantaloupe.srv....\n3  b'Newsgroups: sci.space\\nPath: cantaloupe.srv....\n4  b'Newsgroups: sci.space\\nPath: cantaloupe.srv....",
      "text/html": "<div>\n<style scoped>\n    .dataframe tbody tr th:only-of-type {\n        vertical-align: middle;\n    }\n\n    .dataframe tbody tr th {\n        vertical-align: top;\n    }\n\n    .dataframe thead th {\n        text-align: right;\n    }\n</style>\n<table border=\"1\" class=\"dataframe\">\n  <thead>\n    <tr style=\"text-align: right;\">\n      <th></th>\n      <th>0</th>\n    </tr>\n  </thead>\n  <tbody>\n    <tr>\n      <th>0</th>\n      <td>b\"Newsgroups: sci.space\\nPath: cantaloupe.srv....</td>\n    </tr>\n    <tr>\n      <th>1</th>\n      <td>b'Newsgroups: sci.space\\nPath: cantaloupe.srv....</td>\n    </tr>\n    <tr>\n      <th>2</th>\n      <td>b\"Newsgroups: sci.space\\nPath: cantaloupe.srv....</td>\n    </tr>\n    <tr>\n      <th>3</th>\n      <td>b'Newsgroups: sci.space\\nPath: cantaloupe.srv....</td>\n    </tr>\n    <tr>\n      <th>4</th>\n      <td>b'Newsgroups: sci.space\\nPath: cantaloupe.srv....</td>\n    </tr>\n  </tbody>\n</table>\n</div>"
     },
     "execution_count": 87,
     "metadata": {},
     "output_type": "execute_result"
    }
   ],
   "source": [
    "df.head()"
   ],
   "metadata": {
    "collapsed": false,
    "pycharm": {
     "name": "#%%\n"
    }
   }
  },
  {
   "cell_type": "code",
   "execution_count": 88,
   "outputs": [
    {
     "data": {
      "text/plain": "b\"Newsgroups: sci.space\\nPath: cantaloupe.srv.cs.cmu.edu!rochester!udel!bogus.sura.net!news-feed-1.peachnet.edu!gatech!swrinde!sdd.hp.com!ux1.cso.uiuc.edu!news.cso.uiuc.edu!uxa.cso.uiuc.edu!gfk39017\\nFrom: gfk39017@uxa.cso.uiuc.edu (George F. Krumins)\\nSubject: Re: space news from Feb 15 AW&ST\\nDate: Fri, 23 Apr 1993 20:16:24 GMT\\nMessage-ID: <C5yDnC.GwB@news.cso.uiuc.edu>\\nReferences: <C5ros0.uy@zoo.toronto.edu> <1993Apr23.155313.4220@dazixco.ingr.com>\\nSender: usenet@news.cso.uiuc.edu (Net Noise owner)\\nOrganization: University of Illinois at Urbana\\nLines: 23\\n\\njbreed@doink.b23b.ingr.com (James B. Reed) writes:\\n\\n>In article <C5ros0.uy@zoo.toronto.edu>, henry@zoo.toronto.edu (Henry Spencer) writes:\\n>|> [Pluto's] atmosphere will start to freeze out around 2010, and after about\\n>|> 2005 increasing areas of both Pluto and Charon will be in permanent\\n>|> shadow that will make imaging and geochemical mapping impossible.\\n\\nIt's my understanding that the freezing will start to occur because of the\\ngrowing distance of Pluto and Charon from the Sun, due to it's\\nelliptical orbit. It is not due to shadowing effects. \\n\\n>Where does the shadow come from?  There's nothing close enough to block\\n>sunlight from hitting them.  I wouldn't expect there to be anything block\\n>our view of them either.  What am I missing?\\n\\nPluto can shadow Charon, and vice-versa.\\n\\nGeorge Krumins\\n-- \\n--------------------------------------------------------------------------------\\n|  George Krumins                                                              |\\n|  gfk39017@uxa.cso.uiuc.edu                                                   |\\n|  Pufferfish Observatory                                                      |\\n\""
     },
     "execution_count": 88,
     "metadata": {},
     "output_type": "execute_result"
    }
   ],
   "source": [
    "df[0][0]"
   ],
   "metadata": {
    "collapsed": false,
    "pycharm": {
     "name": "#%%\n"
    }
   }
  },
  {
   "cell_type": "markdown",
   "source": [
    "## Converting bytes to string"
   ],
   "metadata": {
    "collapsed": false,
    "pycharm": {
     "name": "#%% md\n"
    }
   }
  },
  {
   "cell_type": "code",
   "execution_count": 89,
   "outputs": [],
   "source": [
    "def bytes_to_str(text):\n",
    "    return text.decode('utf-8', errors = 'ignore')\n",
    "df[0]=df[0].apply(bytes_to_str)"
   ],
   "metadata": {
    "collapsed": false,
    "pycharm": {
     "name": "#%%\n"
    }
   }
  },
  {
   "cell_type": "markdown",
   "source": [
    "## Removing headers"
   ],
   "metadata": {
    "collapsed": false,
    "pycharm": {
     "name": "#%% md\n"
    }
   }
  },
  {
   "cell_type": "code",
   "execution_count": 90,
   "outputs": [],
   "source": [
    "def remove_header(text):\n",
    "    split_text = text.split('\\n\\n', 1)\n",
    "    if len(split_text) > 1:\n",
    "        return split_text[1]\n",
    "    return text\n",
    "df[0] = df[0].apply(remove_header)"
   ],
   "metadata": {
    "collapsed": false,
    "pycharm": {
     "name": "#%%\n"
    }
   }
  },
  {
   "cell_type": "code",
   "execution_count": 91,
   "outputs": [
    {
     "data": {
      "text/plain": "'pbd@runyon.cim.cdc.com (Paul Dokas) writes:\\n\\n>I was reading Popular Science this morning and was surprised by an ad in\\n>the back.  I know that a lot of the ads in the back of PS are fringe\\n>science or questionablely legal, but this one really grabbed my attention.\\n>It was from a company name \"Personal Missle, Inc.\" or something like that.\\n\\nThe company was probably \"Public Missiles, Inc\" of Michigan.\\n\\n>Anyhow, the ad stated that they\\'d sell rockets that were up to 20\\' in length\\n>and engines of sizes \"F\" to \"M\".  They also said that some rockets will\\n>reach 50,000 feet.\\n\\nYup.\\n\\n>Now, aside from the obvious dangers to any amateur rocketeer using one\\n>of these beasts, isn\\'t this illegal?  I can\\'t imagine the FAA allowing\\n>people to shoot rockets up through the flight levels of passenger planes.\\n>Not to even mention the problem of locating a rocket when it comes down.\\n\\nNope, it\\'s not illegal. It is, however, closely regulated. In order to \\npurchase and use the big rocket motors required, it is necessary to be\\none of the following:\\na) An employee of a government agency.\\nb) An employee or student at a university doing research involving rockets.\\nc) A member or representative of an educational organization involved in\\nresearch or other uses of rockets. There are two such organizations: \\nThe Tripoli Rocketry Association and the National Association of Rocketry.\\nMembers of either organization must demonstrate proficiency in construction\\nand flight before they are allowed to purchase large motors on their own.\\n\\nThe FAA will issue a waiver of its regulations, upon request, to any \\norganization which can persuade them it has taken adequate precautions \\nto avoid conflicts with aircraft. The usual stipulations are:\\n- Only operation up to a specified ceiling is allowed. Depending on the\\nlocation, this ceiling may be from 5000 to 50000 feet AGL. \\n- The operator of the rocket is responsible for avoiding any aircraft\\nwithin the operating radius around the launch site.\\n- Flight into clouds or beyond visual range in haze is expressly prohibited.\\n- The FAA will provide a NOTAM informing other users of the airspace that\\nunmanned rocket operations are taking place at the specified place and time.\\n\\nMost of the launches that are held (and there are dozens of them every year)\\nare held in areas where air traffic is relatively light, such as over the\\nwestern deserts (the Black Rock Desert north of Reno is particularly popular\\nsince it is 25 x 150 miles of *nothing to hit* on the ground).\\n\\nThe two rocketry associations test and approve motors for their members\\'\\nuse, to insure safety. Depending on motor size, the launcher setback is\\nfrom 50 to 500 or more feet. \\n\\nBy the way, rockets under 1 lb and powered by an \"F\" motor are exempt from\\nmost Federal regulations on unmanned rockets anyway. See FAR 101, Subpart\\nC, for details.\\n\\nAs for recovery...although the higher altitude rockets can reach up to\\n50,000 feet, most of them only get to 2,000 to 5,000 feet. The typical\\nrocket is 2 to 6 inches in diameter, and carries a 3 to 6 foot parachute,\\nor multiple parachutes, depending on the payload. Many rockets also carry\\neither a small transmitter or an audio sounder--particularly at launches\\nin the eastern US, where there are more obstructions.\\n\\nCamera, telemetry transmitter, and video payloads are becoming quite common.\\n\\n>And no, I\\'m not going to even think of buying one.  I\\'m not that crazy.\\n\\nWhy not? It\\'s a lot of fun...check out the traffic on rec.models.rockets\\nfor information about the model (3 lb and under) and high power (everything\\nbigger) rocket hobbies. As with all dangerous activities, the key is to\\npractice safety. I\\'ve been flying consumer rockets ranging up to 4-5 lbs\\ntakeoff weight for 27 years, and still have all my extremities intact.\\n\\n>-Paul \"mine\\'ll do 50,000 feet and carries 50 pounds of dynamite\" Dokas\\n\\nThat\\'s another thing. NO EXPLOSIVE WARHEADS OF ANY KIND ARE ALLOWED ON THESE\\nROCKETS. NONE! Please forgive me for shouting, but that\\'s one of the biggest\\nmisconceptions people have about our hobby. \\n\\n>/*            Just remember, you *WILL* die someday.             */\\nTrue. But it will not be related to the rocket hobby, unless I get \\nhit while crossing a road with a rocket in my hand. \\n-- \\nMark Johnson                          USnail: NCR Peripheral Products Division\\nE-mail:  Mark.Johnson@WichitaKS.NCR.COM       3718 N. Rock Rd.\\nVoice: (316) 636-8189 [V+ 654-8189]           Wichita, KS  67226\\n[Non-business email: 76670.1775@compuserve.com]\\n'"
     },
     "execution_count": 91,
     "metadata": {},
     "output_type": "execute_result"
    }
   ],
   "source": [
    "df[0][127]"
   ],
   "metadata": {
    "collapsed": false,
    "pycharm": {
     "name": "#%%\n"
    }
   }
  },
  {
   "cell_type": "markdown",
   "source": [
    "## Dividing into build and valid datasets"
   ],
   "metadata": {
    "collapsed": false,
    "pycharm": {
     "name": "#%% md\n"
    }
   }
  },
  {
   "cell_type": "code",
   "execution_count": 92,
   "outputs": [
    {
     "name": "stdout",
     "output_type": "stream",
     "text": [
      "(19997, 1)\n",
      "X_build shape: (13997, 1)\n",
      "X_val shape: (6000, 1)\n"
     ]
    }
   ],
   "source": [
    "from sklearn.model_selection import train_test_split\n",
    "\n",
    "print(df.shape)\n",
    "\n",
    "X_build, X_val = train_test_split(\n",
    "    df,\n",
    "    test_size=0.3, random_state=213)\n",
    "\n",
    "print(\"X_build shape: {}\".format(X_build.shape))\n",
    "print(\"X_val shape: {}\".format(X_val.shape))"
   ],
   "metadata": {
    "collapsed": false,
    "pycharm": {
     "name": "#%%\n"
    }
   }
  },
  {
   "cell_type": "code",
   "execution_count": 93,
   "outputs": [],
   "source": [
    "original_df = df.copy()\n",
    "df = X_build\n",
    "df[0] = df[0].astype(str)"
   ],
   "metadata": {
    "collapsed": false,
    "pycharm": {
     "name": "#%%\n"
    }
   }
  },
  {
   "cell_type": "code",
   "execution_count": 94,
   "outputs": [
    {
     "name": "stdout",
     "output_type": "stream",
     "text": [
      "<class 'pandas.core.frame.DataFrame'>\n",
      "Int64Index: 13997 entries, 12727 to 19755\n",
      "Data columns (total 1 columns):\n",
      " #   Column  Non-Null Count  Dtype \n",
      "---  ------  --------------  ----- \n",
      " 0   text    13997 non-null  object\n",
      "dtypes: object(1)\n",
      "memory usage: 218.7+ KB\n"
     ]
    }
   ],
   "source": [
    "df.columns = [\"text\"]\n",
    "df.info()"
   ],
   "metadata": {
    "collapsed": false,
    "pycharm": {
     "name": "#%%\n"
    }
   }
  },
  {
   "cell_type": "markdown",
   "source": [
    "### Counting sentences"
   ],
   "metadata": {
    "collapsed": false,
    "pycharm": {
     "name": "#%% md\n"
    }
   }
  },
  {
   "cell_type": "code",
   "execution_count": 95,
   "outputs": [],
   "source": [
    "from nltk.tokenize import sent_tokenize\n",
    "df[\"sentences\"]=df[\"text\"].apply(sent_tokenize).apply(len)"
   ],
   "metadata": {
    "collapsed": false,
    "pycharm": {
     "name": "#%%\n"
    }
   }
  },
  {
   "cell_type": "markdown",
   "source": [
    "### Counting question and exclamation marks"
   ],
   "metadata": {
    "collapsed": false,
    "pycharm": {
     "name": "#%% md\n"
    }
   }
  },
  {
   "cell_type": "code",
   "execution_count": 96,
   "outputs": [],
   "source": [
    "df[\"question_marks_ratio\"] = df[\"text\"].str.count(\"\\?\")/df[\"sentences\"]\n",
    "df[\"exclamation_marks_ratio\"] = df[\"text\"].str.count(\"\\!\")/df[\"sentences\"]"
   ],
   "metadata": {
    "collapsed": false,
    "pycharm": {
     "name": "#%%\n"
    }
   }
  },
  {
   "cell_type": "markdown",
   "source": [
    "### Counting links"
   ],
   "metadata": {
    "collapsed": false,
    "pycharm": {
     "name": "#%% md\n"
    }
   }
  },
  {
   "cell_type": "code",
   "execution_count": 97,
   "outputs": [],
   "source": [
    "df[\"links\"] = df[\"text\"].str.count(r'https?://\\S+|www\\.\\S+')"
   ],
   "metadata": {
    "collapsed": false,
    "pycharm": {
     "name": "#%%\n"
    }
   }
  },
  {
   "cell_type": "markdown",
   "source": [
    "### Counting e-mail addresses"
   ],
   "metadata": {
    "collapsed": false,
    "pycharm": {
     "name": "#%% md\n"
    }
   }
  },
  {
   "cell_type": "code",
   "execution_count": 98,
   "outputs": [],
   "source": [
    "df[\"emails_addresses\"] = df[\"text\"].str.count(r'\\b[A-Za-z0-9._%+-]+@[A-Za-z0-9.-]+\\.[A-Za-z]{2,}\\b')"
   ],
   "metadata": {
    "collapsed": false,
    "pycharm": {
     "name": "#%%\n"
    }
   }
  },
  {
   "cell_type": "markdown",
   "source": [
    "## Cleaning"
   ],
   "metadata": {
    "collapsed": false,
    "pycharm": {
     "name": "#%% md\n"
    }
   }
  },
  {
   "cell_type": "code",
   "execution_count": 99,
   "outputs": [
    {
     "data": {
      "text/plain": "                                                    text  sentences  \\\n12727  In article Robert Castro writes Would anyone o...         14   \n12958  In article Jerry Hartzler CATS writes In artic...          5   \n17116   try to unsubscribe from this group by sending...          4   \n6186   In article John Eaton writes Thats one problem...         13   \n6782   The key question is whether nonClipper encrypt...         16   \n\n       question_marks_ratio  exclamation_marks_ratio  links  emails_addresses  \n12727              0.071429                 0.571429      0                 3  \n12958              0.000000                 0.000000      0                 5  \n17116              0.250000                 0.000000      0                 1  \n6186               0.230769                 0.000000      0                 2  \n6782               0.125000                 0.000000      0                 1  ",
      "text/html": "<div>\n<style scoped>\n    .dataframe tbody tr th:only-of-type {\n        vertical-align: middle;\n    }\n\n    .dataframe tbody tr th {\n        vertical-align: top;\n    }\n\n    .dataframe thead th {\n        text-align: right;\n    }\n</style>\n<table border=\"1\" class=\"dataframe\">\n  <thead>\n    <tr style=\"text-align: right;\">\n      <th></th>\n      <th>text</th>\n      <th>sentences</th>\n      <th>question_marks_ratio</th>\n      <th>exclamation_marks_ratio</th>\n      <th>links</th>\n      <th>emails_addresses</th>\n    </tr>\n  </thead>\n  <tbody>\n    <tr>\n      <th>12727</th>\n      <td>In article Robert Castro writes Would anyone o...</td>\n      <td>14</td>\n      <td>0.071429</td>\n      <td>0.571429</td>\n      <td>0</td>\n      <td>3</td>\n    </tr>\n    <tr>\n      <th>12958</th>\n      <td>In article Jerry Hartzler CATS writes In artic...</td>\n      <td>5</td>\n      <td>0.000000</td>\n      <td>0.000000</td>\n      <td>0</td>\n      <td>5</td>\n    </tr>\n    <tr>\n      <th>17116</th>\n      <td>try to unsubscribe from this group by sending...</td>\n      <td>4</td>\n      <td>0.250000</td>\n      <td>0.000000</td>\n      <td>0</td>\n      <td>1</td>\n    </tr>\n    <tr>\n      <th>6186</th>\n      <td>In article John Eaton writes Thats one problem...</td>\n      <td>13</td>\n      <td>0.230769</td>\n      <td>0.000000</td>\n      <td>0</td>\n      <td>2</td>\n    </tr>\n    <tr>\n      <th>6782</th>\n      <td>The key question is whether nonClipper encrypt...</td>\n      <td>16</td>\n      <td>0.125000</td>\n      <td>0.000000</td>\n      <td>0</td>\n      <td>1</td>\n    </tr>\n  </tbody>\n</table>\n</div>"
     },
     "execution_count": 99,
     "metadata": {},
     "output_type": "execute_result"
    }
   ],
   "source": [
    "import string\n",
    "import re\n",
    "\n",
    "def clean(df):\n",
    "    df[\"text\"] = df['text'].str.replace('https?://\\S+|www\\.\\S+', '', regex = True) # links\n",
    "    df[\"text\"] = df[\"text\"].str.replace(r'\\b[A-Za-z0-9._%+-]+@[A-Za-z0-9.-]+\\.[A-Za-z]{2,}\\b', '', regex = True) # e-mail adresses\n",
    "    df[\"text\"] = df['text'].str.replace('<.*?>+', '', regex = True) # tags\n",
    "    df[\"text\"] = df['text'].str.replace('\\[.*?\\]', '', regex = True) # square brackets\n",
    "    df[\"text\"] = df['text'].str.replace('[%s]' % re.escape(string.punctuation), '', regex = True) # puntuation marks\n",
    "    df[\"text\"] = df['text'].str.replace('\\n', ' ', regex = True) # newline character\n",
    "    df[\"text\"] = df['text'].str.replace(\"\\\\W\",\" \", regex = True) # non-alphanumeric characters\n",
    "    df[\"text\"] = df['text'].str.replace('\\w*\\d\\w*', '', regex = True) # numeric sequences\n",
    "    df[\"text\"] = df['text'].str.replace(r'\\b\\w\\b', '', regex = True) # one-letter words\n",
    "    df[\"text\"] = df['text'].str.replace(r'\\s+', ' ', regex = True) # empty spaces\n",
    "    return df\n",
    "\n",
    "df = clean(df)\n",
    "df.head()"
   ],
   "metadata": {
    "collapsed": false,
    "pycharm": {
     "name": "#%%\n"
    }
   }
  },
  {
   "cell_type": "markdown",
   "source": [
    "## Converting to lowercase"
   ],
   "metadata": {
    "collapsed": false,
    "pycharm": {
     "name": "#%% md\n"
    }
   }
  },
  {
   "cell_type": "code",
   "execution_count": 100,
   "outputs": [],
   "source": [
    "df[\"chars\"]=df[\"text\"].str.len()\n",
    "df[\"capital_letters_ratio\"] = df[\"text\"].str.count(r'[A-Z]')/df[\"text\"].str.count(r'[A-za-z]')\n",
    "df[\"text\"] = df['text'].str.lower()"
   ],
   "metadata": {
    "collapsed": false,
    "pycharm": {
     "name": "#%%\n"
    }
   }
  },
  {
   "cell_type": "markdown",
   "source": [
    "## Removing stopwords"
   ],
   "metadata": {
    "collapsed": false,
    "pycharm": {
     "name": "#%% md\n"
    }
   }
  },
  {
   "cell_type": "code",
   "execution_count": 101,
   "outputs": [],
   "source": [
    "from nltk.corpus import stopwords\n",
    "\n",
    "def remove_stopwords(text):\n",
    " stop = set(stopwords.words('english'))\n",
    " text = [word for word in text.split() if word not in stop]\n",
    " text = ' '.join(x for x in text)\n",
    " return text\n",
    "\n",
    "df['text'] = df['text'].apply(remove_stopwords)"
   ],
   "metadata": {
    "collapsed": false,
    "pycharm": {
     "name": "#%%\n"
    }
   }
  },
  {
   "cell_type": "markdown",
   "source": [
    "## POS tagging and lemmatization"
   ],
   "metadata": {
    "collapsed": false,
    "pycharm": {
     "name": "#%% md\n"
    }
   }
  },
  {
   "cell_type": "code",
   "execution_count": 102,
   "outputs": [],
   "source": [
    "from nltk.corpus import wordnet\n",
    "import nltk\n",
    "from nltk.stem import WordNetLemmatizer\n",
    "\n",
    "def pos_tag_and_lemmatize(text):\n",
    "    tokens = nltk.word_tokenize(text)\n",
    "    pos_tags = nltk.pos_tag(tokens)\n",
    "\n",
    "    lemmas = []\n",
    "    noun_count = 0\n",
    "    adj_count = 0\n",
    "    verb_count = 0\n",
    "    adv_count = 0\n",
    "    token_count = len(tokens)\n",
    "    unique_words = len(set(tokens))\n",
    "\n",
    "    if token_count == 0:\n",
    "        return lemmas, noun_count, adj_count, verb_count, adv_count, token_count, unique_words\n",
    "\n",
    "    lemmatizer = WordNetLemmatizer()\n",
    "\n",
    "    for token, pos in pos_tags:\n",
    "        wn_pos = nltk.corpus.wordnet.NOUN\n",
    "        if pos.startswith('J'):\n",
    "            wn_pos = wordnet.ADJ\n",
    "            adj_count += 1\n",
    "        elif pos.startswith('V'):\n",
    "            wn_pos = wordnet.VERB\n",
    "            verb_count += 1\n",
    "        elif pos.startswith('R'):\n",
    "            wn_pos = wordnet.ADV\n",
    "            adv_count += 1\n",
    "        else:\n",
    "            noun_count += 1\n",
    "\n",
    "        lemma = lemmatizer.lemmatize(token, pos=wn_pos)\n",
    "        lemmas.append(lemma)\n",
    "\n",
    "    noun_ratio = noun_count/token_count\n",
    "    adj_ratio = adj_count/token_count\n",
    "    verb_ratio = verb_count/token_count\n",
    "    adv_ratio = adv_count/token_count\n",
    "\n",
    "    lemmas = \" \".join(lemmas)\n",
    "\n",
    "    return lemmas, noun_ratio, adj_ratio, verb_ratio, adv_ratio, token_count, unique_words\n",
    "\n",
    "# Apply POS-tagging, lemmatization, and count to the DataFrame\n",
    "df[['text', 'noun_ratio', 'adj_ratio', 'verb_ratio', 'adv_ratio', 'words', 'unique_words']] = df['text'].apply(pos_tag_and_lemmatize).apply(pd.Series)"
   ],
   "metadata": {
    "collapsed": false,
    "pycharm": {
     "name": "#%%\n"
    }
   }
  },
  {
   "cell_type": "markdown",
   "source": [
    "## Lexical diversity"
   ],
   "metadata": {
    "collapsed": false,
    "pycharm": {
     "name": "#%% md\n"
    }
   }
  },
  {
   "cell_type": "code",
   "execution_count": 103,
   "outputs": [],
   "source": [
    "df['lexical_div'] = df['words'] / df['unique_words']"
   ],
   "metadata": {
    "collapsed": false,
    "pycharm": {
     "name": "#%%\n"
    }
   }
  },
  {
   "cell_type": "markdown",
   "source": [
    "## Average word length"
   ],
   "metadata": {
    "collapsed": false,
    "pycharm": {
     "name": "#%% md\n"
    }
   }
  },
  {
   "cell_type": "code",
   "source": [
    "df['avg_word_length'] = df['chars'] / df['words']"
   ],
   "metadata": {
    "collapsed": false,
    "pycharm": {
     "name": "#%%\n"
    }
   },
   "execution_count": 104,
   "outputs": []
  },
  {
   "cell_type": "code",
   "execution_count": 105,
   "outputs": [
    {
     "data": {
      "text/plain": "                                                    text  sentences  \\\n12727  article robert castro writes would anyone dodl...         14   \n12958  article jerry hartzler cat write article micha...          5   \n17116  try unsubscribe group send email doesnt work c...          4   \n6186   article john eaton write thats one problem far...         13   \n6782   key question whether nonclipper encryption mak...         16   \n\n       question_marks_ratio  exclamation_marks_ratio  links  emails_addresses  \\\n12727              0.071429                 0.571429      0                 3   \n12958              0.000000                 0.000000      0                 5   \n17116              0.250000                 0.000000      0                 1   \n6186               0.230769                 0.000000      0                 2   \n6782               0.125000                 0.000000      0                 1   \n\n       chars  capital_letters_ratio  noun_ratio  adj_ratio  verb_ratio  \\\n12727   1335               0.058878    0.562044   0.167883    0.218978   \n12958    402               0.072508    0.538462   0.153846    0.205128   \n17116    397               0.081818    0.595238   0.238095    0.142857   \n6186    1334               0.018051    0.583333   0.166667    0.191667   \n6782    1906               0.018657    0.479290   0.224852    0.242604   \n\n       adv_ratio  words  unique_words  lexical_div  avg_word_length  \n12727   0.051095    137           117     1.170940         9.744526  \n12958   0.102564     39            36     1.083333        10.307692  \n17116   0.023810     42            40     1.050000         9.452381  \n6186    0.058333    120           109     1.100917        11.116667  \n6782    0.053254    169           134     1.261194        11.278107  ",
      "text/html": "<div>\n<style scoped>\n    .dataframe tbody tr th:only-of-type {\n        vertical-align: middle;\n    }\n\n    .dataframe tbody tr th {\n        vertical-align: top;\n    }\n\n    .dataframe thead th {\n        text-align: right;\n    }\n</style>\n<table border=\"1\" class=\"dataframe\">\n  <thead>\n    <tr style=\"text-align: right;\">\n      <th></th>\n      <th>text</th>\n      <th>sentences</th>\n      <th>question_marks_ratio</th>\n      <th>exclamation_marks_ratio</th>\n      <th>links</th>\n      <th>emails_addresses</th>\n      <th>chars</th>\n      <th>capital_letters_ratio</th>\n      <th>noun_ratio</th>\n      <th>adj_ratio</th>\n      <th>verb_ratio</th>\n      <th>adv_ratio</th>\n      <th>words</th>\n      <th>unique_words</th>\n      <th>lexical_div</th>\n      <th>avg_word_length</th>\n    </tr>\n  </thead>\n  <tbody>\n    <tr>\n      <th>12727</th>\n      <td>article robert castro writes would anyone dodl...</td>\n      <td>14</td>\n      <td>0.071429</td>\n      <td>0.571429</td>\n      <td>0</td>\n      <td>3</td>\n      <td>1335</td>\n      <td>0.058878</td>\n      <td>0.562044</td>\n      <td>0.167883</td>\n      <td>0.218978</td>\n      <td>0.051095</td>\n      <td>137</td>\n      <td>117</td>\n      <td>1.170940</td>\n      <td>9.744526</td>\n    </tr>\n    <tr>\n      <th>12958</th>\n      <td>article jerry hartzler cat write article micha...</td>\n      <td>5</td>\n      <td>0.000000</td>\n      <td>0.000000</td>\n      <td>0</td>\n      <td>5</td>\n      <td>402</td>\n      <td>0.072508</td>\n      <td>0.538462</td>\n      <td>0.153846</td>\n      <td>0.205128</td>\n      <td>0.102564</td>\n      <td>39</td>\n      <td>36</td>\n      <td>1.083333</td>\n      <td>10.307692</td>\n    </tr>\n    <tr>\n      <th>17116</th>\n      <td>try unsubscribe group send email doesnt work c...</td>\n      <td>4</td>\n      <td>0.250000</td>\n      <td>0.000000</td>\n      <td>0</td>\n      <td>1</td>\n      <td>397</td>\n      <td>0.081818</td>\n      <td>0.595238</td>\n      <td>0.238095</td>\n      <td>0.142857</td>\n      <td>0.023810</td>\n      <td>42</td>\n      <td>40</td>\n      <td>1.050000</td>\n      <td>9.452381</td>\n    </tr>\n    <tr>\n      <th>6186</th>\n      <td>article john eaton write thats one problem far...</td>\n      <td>13</td>\n      <td>0.230769</td>\n      <td>0.000000</td>\n      <td>0</td>\n      <td>2</td>\n      <td>1334</td>\n      <td>0.018051</td>\n      <td>0.583333</td>\n      <td>0.166667</td>\n      <td>0.191667</td>\n      <td>0.058333</td>\n      <td>120</td>\n      <td>109</td>\n      <td>1.100917</td>\n      <td>11.116667</td>\n    </tr>\n    <tr>\n      <th>6782</th>\n      <td>key question whether nonclipper encryption mak...</td>\n      <td>16</td>\n      <td>0.125000</td>\n      <td>0.000000</td>\n      <td>0</td>\n      <td>1</td>\n      <td>1906</td>\n      <td>0.018657</td>\n      <td>0.479290</td>\n      <td>0.224852</td>\n      <td>0.242604</td>\n      <td>0.053254</td>\n      <td>169</td>\n      <td>134</td>\n      <td>1.261194</td>\n      <td>11.278107</td>\n    </tr>\n  </tbody>\n</table>\n</div>"
     },
     "execution_count": 105,
     "metadata": {},
     "output_type": "execute_result"
    }
   ],
   "source": [
    "df.head()"
   ],
   "metadata": {
    "collapsed": false,
    "pycharm": {
     "name": "#%%\n"
    }
   }
  },
  {
   "cell_type": "code",
   "execution_count": 108,
   "outputs": [
    {
     "data": {
      "text/plain": "                                                    text  sentences  \\\n12727  article robert castro writes would anyone dodl...         14   \n12958  article jerry hartzler cat write article micha...          5   \n17116  try unsubscribe group send email doesnt work c...          4   \n6186   article john eaton write thats one problem far...         13   \n6782   key question whether nonclipper encryption mak...         16   \n...                                                  ...        ...   \n11051  price seem good would like know give away secr...          5   \n17409  get compwindowsx justin kibell system programm...          4   \n8032   watch detroitminnesota game last night think s...          5   \n13540  article jon livesey write article douglas grah...         17   \n19755  nick jovanovic writes state many time civil wa...          7   \n\n       question_marks_ratio  exclamation_marks_ratio  links  emails_addresses  \\\n12727              0.071429                 0.571429      0                 3   \n12958              0.000000                 0.000000      0                 5   \n17116              0.250000                 0.000000      0                 1   \n6186               0.230769                 0.000000      0                 2   \n6782               0.125000                 0.000000      0                 1   \n...                     ...                      ...    ...               ...   \n11051              0.000000                 0.000000      0                 0   \n17409              0.250000                 0.000000      0                 1   \n8032               0.400000                 0.400000      0                 2   \n13540              0.058824                 0.000000      0                 5   \n19755              0.000000                 0.000000      0                 1   \n\n       chars  capital_letters_ratio  noun_ratio  adj_ratio  verb_ratio  \\\n12727   1335               0.058878    0.562044   0.167883    0.218978   \n12958    402               0.072508    0.538462   0.153846    0.205128   \n17116    397               0.081818    0.595238   0.238095    0.142857   \n6186    1334               0.018051    0.583333   0.166667    0.191667   \n6782    1906               0.018657    0.479290   0.224852    0.242604   \n...      ...                    ...         ...        ...         ...   \n11051    258               0.110577    0.458333   0.166667    0.333333   \n17409    195               0.136095    0.700000   0.150000    0.150000   \n8032     251               0.053398    0.560000   0.200000    0.240000   \n13540   2611               0.045057    0.558333   0.179167    0.212500   \n19755    922               0.064052    0.471910   0.191011    0.269663   \n\n       adv_ratio  words  unique_words  lexical_div  avg_word_length  \n12727   0.051095    137           117     1.170940         9.744526  \n12958   0.102564     39            36     1.083333        10.307692  \n17116   0.023810     42            40     1.050000         9.452381  \n6186    0.058333    120           109     1.100917        11.116667  \n6782    0.053254    169           134     1.261194        11.278107  \n...          ...    ...           ...          ...              ...  \n11051   0.041667     24            23     1.043478        10.750000  \n17409   0.000000     20            20     1.000000         9.750000  \n8032    0.000000     25            23     1.086957        10.040000  \n13540   0.050000    240           186     1.290323        10.879167  \n19755   0.067416     89            68     1.308824        10.359551  \n\n[13997 rows x 16 columns]",
      "text/html": "<div>\n<style scoped>\n    .dataframe tbody tr th:only-of-type {\n        vertical-align: middle;\n    }\n\n    .dataframe tbody tr th {\n        vertical-align: top;\n    }\n\n    .dataframe thead th {\n        text-align: right;\n    }\n</style>\n<table border=\"1\" class=\"dataframe\">\n  <thead>\n    <tr style=\"text-align: right;\">\n      <th></th>\n      <th>text</th>\n      <th>sentences</th>\n      <th>question_marks_ratio</th>\n      <th>exclamation_marks_ratio</th>\n      <th>links</th>\n      <th>emails_addresses</th>\n      <th>chars</th>\n      <th>capital_letters_ratio</th>\n      <th>noun_ratio</th>\n      <th>adj_ratio</th>\n      <th>verb_ratio</th>\n      <th>adv_ratio</th>\n      <th>words</th>\n      <th>unique_words</th>\n      <th>lexical_div</th>\n      <th>avg_word_length</th>\n    </tr>\n  </thead>\n  <tbody>\n    <tr>\n      <th>12727</th>\n      <td>article robert castro writes would anyone dodl...</td>\n      <td>14</td>\n      <td>0.071429</td>\n      <td>0.571429</td>\n      <td>0</td>\n      <td>3</td>\n      <td>1335</td>\n      <td>0.058878</td>\n      <td>0.562044</td>\n      <td>0.167883</td>\n      <td>0.218978</td>\n      <td>0.051095</td>\n      <td>137</td>\n      <td>117</td>\n      <td>1.170940</td>\n      <td>9.744526</td>\n    </tr>\n    <tr>\n      <th>12958</th>\n      <td>article jerry hartzler cat write article micha...</td>\n      <td>5</td>\n      <td>0.000000</td>\n      <td>0.000000</td>\n      <td>0</td>\n      <td>5</td>\n      <td>402</td>\n      <td>0.072508</td>\n      <td>0.538462</td>\n      <td>0.153846</td>\n      <td>0.205128</td>\n      <td>0.102564</td>\n      <td>39</td>\n      <td>36</td>\n      <td>1.083333</td>\n      <td>10.307692</td>\n    </tr>\n    <tr>\n      <th>17116</th>\n      <td>try unsubscribe group send email doesnt work c...</td>\n      <td>4</td>\n      <td>0.250000</td>\n      <td>0.000000</td>\n      <td>0</td>\n      <td>1</td>\n      <td>397</td>\n      <td>0.081818</td>\n      <td>0.595238</td>\n      <td>0.238095</td>\n      <td>0.142857</td>\n      <td>0.023810</td>\n      <td>42</td>\n      <td>40</td>\n      <td>1.050000</td>\n      <td>9.452381</td>\n    </tr>\n    <tr>\n      <th>6186</th>\n      <td>article john eaton write thats one problem far...</td>\n      <td>13</td>\n      <td>0.230769</td>\n      <td>0.000000</td>\n      <td>0</td>\n      <td>2</td>\n      <td>1334</td>\n      <td>0.018051</td>\n      <td>0.583333</td>\n      <td>0.166667</td>\n      <td>0.191667</td>\n      <td>0.058333</td>\n      <td>120</td>\n      <td>109</td>\n      <td>1.100917</td>\n      <td>11.116667</td>\n    </tr>\n    <tr>\n      <th>6782</th>\n      <td>key question whether nonclipper encryption mak...</td>\n      <td>16</td>\n      <td>0.125000</td>\n      <td>0.000000</td>\n      <td>0</td>\n      <td>1</td>\n      <td>1906</td>\n      <td>0.018657</td>\n      <td>0.479290</td>\n      <td>0.224852</td>\n      <td>0.242604</td>\n      <td>0.053254</td>\n      <td>169</td>\n      <td>134</td>\n      <td>1.261194</td>\n      <td>11.278107</td>\n    </tr>\n    <tr>\n      <th>...</th>\n      <td>...</td>\n      <td>...</td>\n      <td>...</td>\n      <td>...</td>\n      <td>...</td>\n      <td>...</td>\n      <td>...</td>\n      <td>...</td>\n      <td>...</td>\n      <td>...</td>\n      <td>...</td>\n      <td>...</td>\n      <td>...</td>\n      <td>...</td>\n      <td>...</td>\n      <td>...</td>\n    </tr>\n    <tr>\n      <th>11051</th>\n      <td>price seem good would like know give away secr...</td>\n      <td>5</td>\n      <td>0.000000</td>\n      <td>0.000000</td>\n      <td>0</td>\n      <td>0</td>\n      <td>258</td>\n      <td>0.110577</td>\n      <td>0.458333</td>\n      <td>0.166667</td>\n      <td>0.333333</td>\n      <td>0.041667</td>\n      <td>24</td>\n      <td>23</td>\n      <td>1.043478</td>\n      <td>10.750000</td>\n    </tr>\n    <tr>\n      <th>17409</th>\n      <td>get compwindowsx justin kibell system programm...</td>\n      <td>4</td>\n      <td>0.250000</td>\n      <td>0.000000</td>\n      <td>0</td>\n      <td>1</td>\n      <td>195</td>\n      <td>0.136095</td>\n      <td>0.700000</td>\n      <td>0.150000</td>\n      <td>0.150000</td>\n      <td>0.000000</td>\n      <td>20</td>\n      <td>20</td>\n      <td>1.000000</td>\n      <td>9.750000</td>\n    </tr>\n    <tr>\n      <th>8032</th>\n      <td>watch detroitminnesota game last night think s...</td>\n      <td>5</td>\n      <td>0.400000</td>\n      <td>0.400000</td>\n      <td>0</td>\n      <td>2</td>\n      <td>251</td>\n      <td>0.053398</td>\n      <td>0.560000</td>\n      <td>0.200000</td>\n      <td>0.240000</td>\n      <td>0.000000</td>\n      <td>25</td>\n      <td>23</td>\n      <td>1.086957</td>\n      <td>10.040000</td>\n    </tr>\n    <tr>\n      <th>13540</th>\n      <td>article jon livesey write article douglas grah...</td>\n      <td>17</td>\n      <td>0.058824</td>\n      <td>0.000000</td>\n      <td>0</td>\n      <td>5</td>\n      <td>2611</td>\n      <td>0.045057</td>\n      <td>0.558333</td>\n      <td>0.179167</td>\n      <td>0.212500</td>\n      <td>0.050000</td>\n      <td>240</td>\n      <td>186</td>\n      <td>1.290323</td>\n      <td>10.879167</td>\n    </tr>\n    <tr>\n      <th>19755</th>\n      <td>nick jovanovic writes state many time civil wa...</td>\n      <td>7</td>\n      <td>0.000000</td>\n      <td>0.000000</td>\n      <td>0</td>\n      <td>1</td>\n      <td>922</td>\n      <td>0.064052</td>\n      <td>0.471910</td>\n      <td>0.191011</td>\n      <td>0.269663</td>\n      <td>0.067416</td>\n      <td>89</td>\n      <td>68</td>\n      <td>1.308824</td>\n      <td>10.359551</td>\n    </tr>\n  </tbody>\n</table>\n<p>13997 rows × 16 columns</p>\n</div>"
     },
     "execution_count": 108,
     "metadata": {},
     "output_type": "execute_result"
    }
   ],
   "source": [
    "df"
   ],
   "metadata": {
    "collapsed": false,
    "pycharm": {
     "name": "#%%\n"
    }
   }
  },
  {
   "cell_type": "markdown",
   "source": [
    "## Cleaning missing data"
   ],
   "metadata": {
    "collapsed": false,
    "pycharm": {
     "name": "#%% md\n"
    }
   }
  },
  {
   "cell_type": "code",
   "execution_count": 109,
   "outputs": [],
   "source": [
    "df = df[df[\"text\"] != '']"
   ],
   "metadata": {
    "collapsed": false,
    "pycharm": {
     "name": "#%%\n"
    }
   }
  },
  {
   "cell_type": "code",
   "execution_count": 111,
   "outputs": [],
   "source": [
    "df[\"text\"] = df[\"text\"].apply(str)"
   ],
   "metadata": {
    "collapsed": false,
    "pycharm": {
     "name": "#%%\n"
    }
   }
  },
  {
   "cell_type": "markdown",
   "source": [
    "## Sentiment analysis"
   ],
   "metadata": {
    "collapsed": false,
    "pycharm": {
     "name": "#%% md\n"
    }
   }
  },
  {
   "cell_type": "code",
   "execution_count": 112,
   "outputs": [],
   "source": [
    "from nltk.sentiment import SentimentIntensityAnalyzer\n",
    "\n",
    "sia = SentimentIntensityAnalyzer()\n",
    "\n",
    "# Calculate the sentiment scores for all texts\n",
    "sentiment_scores = df['text'].apply(lambda text: sia.polarity_scores(text))\n",
    "\n",
    "# Extract negative, positive, and neutral scores into separate columns\n",
    "df['negative'] = sentiment_scores.apply(lambda score: score['neg'])\n",
    "df['positive'] = sentiment_scores.apply(lambda score: score['pos'])\n",
    "df['neutral'] = sentiment_scores.apply(lambda score: score['neu'])"
   ],
   "metadata": {
    "collapsed": false,
    "pycharm": {
     "name": "#%%\n"
    }
   }
  },
  {
   "cell_type": "code",
   "execution_count": 113,
   "outputs": [
    {
     "data": {
      "text/plain": "                                                    text  sentences  \\\n12727  article robert castro writes would anyone dodl...         14   \n12958  article jerry hartzler cat write article micha...          5   \n17116  try unsubscribe group send email doesnt work c...          4   \n6186   article john eaton write thats one problem far...         13   \n6782   key question whether nonclipper encryption mak...         16   \n\n       question_marks_ratio  exclamation_marks_ratio  links  emails_addresses  \\\n12727              0.071429                 0.571429      0                 3   \n12958              0.000000                 0.000000      0                 5   \n17116              0.250000                 0.000000      0                 1   \n6186               0.230769                 0.000000      0                 2   \n6782               0.125000                 0.000000      0                 1   \n\n       chars  capital_letters_ratio  noun_ratio  adj_ratio  verb_ratio  \\\n12727   1335               0.058878    0.562044   0.167883    0.218978   \n12958    402               0.072508    0.538462   0.153846    0.205128   \n17116    397               0.081818    0.595238   0.238095    0.142857   \n6186    1334               0.018051    0.583333   0.166667    0.191667   \n6782    1906               0.018657    0.479290   0.224852    0.242604   \n\n       adv_ratio  words  unique_words  lexical_div  avg_word_length  negative  \\\n12727   0.051095    137           117     1.170940         9.744526     0.033   \n12958   0.102564     39            36     1.083333        10.307692     0.068   \n17116   0.023810     42            40     1.050000         9.452381     0.027   \n6186    0.058333    120           109     1.100917        11.116667     0.129   \n6782    0.053254    169           134     1.261194        11.278107     0.120   \n\n       positive  neutral  \n12727     0.139    0.828  \n12958     0.093    0.839  \n17116     0.107    0.867  \n6186      0.218    0.653  \n6782      0.231    0.649  ",
      "text/html": "<div>\n<style scoped>\n    .dataframe tbody tr th:only-of-type {\n        vertical-align: middle;\n    }\n\n    .dataframe tbody tr th {\n        vertical-align: top;\n    }\n\n    .dataframe thead th {\n        text-align: right;\n    }\n</style>\n<table border=\"1\" class=\"dataframe\">\n  <thead>\n    <tr style=\"text-align: right;\">\n      <th></th>\n      <th>text</th>\n      <th>sentences</th>\n      <th>question_marks_ratio</th>\n      <th>exclamation_marks_ratio</th>\n      <th>links</th>\n      <th>emails_addresses</th>\n      <th>chars</th>\n      <th>capital_letters_ratio</th>\n      <th>noun_ratio</th>\n      <th>adj_ratio</th>\n      <th>verb_ratio</th>\n      <th>adv_ratio</th>\n      <th>words</th>\n      <th>unique_words</th>\n      <th>lexical_div</th>\n      <th>avg_word_length</th>\n      <th>negative</th>\n      <th>positive</th>\n      <th>neutral</th>\n    </tr>\n  </thead>\n  <tbody>\n    <tr>\n      <th>12727</th>\n      <td>article robert castro writes would anyone dodl...</td>\n      <td>14</td>\n      <td>0.071429</td>\n      <td>0.571429</td>\n      <td>0</td>\n      <td>3</td>\n      <td>1335</td>\n      <td>0.058878</td>\n      <td>0.562044</td>\n      <td>0.167883</td>\n      <td>0.218978</td>\n      <td>0.051095</td>\n      <td>137</td>\n      <td>117</td>\n      <td>1.170940</td>\n      <td>9.744526</td>\n      <td>0.033</td>\n      <td>0.139</td>\n      <td>0.828</td>\n    </tr>\n    <tr>\n      <th>12958</th>\n      <td>article jerry hartzler cat write article micha...</td>\n      <td>5</td>\n      <td>0.000000</td>\n      <td>0.000000</td>\n      <td>0</td>\n      <td>5</td>\n      <td>402</td>\n      <td>0.072508</td>\n      <td>0.538462</td>\n      <td>0.153846</td>\n      <td>0.205128</td>\n      <td>0.102564</td>\n      <td>39</td>\n      <td>36</td>\n      <td>1.083333</td>\n      <td>10.307692</td>\n      <td>0.068</td>\n      <td>0.093</td>\n      <td>0.839</td>\n    </tr>\n    <tr>\n      <th>17116</th>\n      <td>try unsubscribe group send email doesnt work c...</td>\n      <td>4</td>\n      <td>0.250000</td>\n      <td>0.000000</td>\n      <td>0</td>\n      <td>1</td>\n      <td>397</td>\n      <td>0.081818</td>\n      <td>0.595238</td>\n      <td>0.238095</td>\n      <td>0.142857</td>\n      <td>0.023810</td>\n      <td>42</td>\n      <td>40</td>\n      <td>1.050000</td>\n      <td>9.452381</td>\n      <td>0.027</td>\n      <td>0.107</td>\n      <td>0.867</td>\n    </tr>\n    <tr>\n      <th>6186</th>\n      <td>article john eaton write thats one problem far...</td>\n      <td>13</td>\n      <td>0.230769</td>\n      <td>0.000000</td>\n      <td>0</td>\n      <td>2</td>\n      <td>1334</td>\n      <td>0.018051</td>\n      <td>0.583333</td>\n      <td>0.166667</td>\n      <td>0.191667</td>\n      <td>0.058333</td>\n      <td>120</td>\n      <td>109</td>\n      <td>1.100917</td>\n      <td>11.116667</td>\n      <td>0.129</td>\n      <td>0.218</td>\n      <td>0.653</td>\n    </tr>\n    <tr>\n      <th>6782</th>\n      <td>key question whether nonclipper encryption mak...</td>\n      <td>16</td>\n      <td>0.125000</td>\n      <td>0.000000</td>\n      <td>0</td>\n      <td>1</td>\n      <td>1906</td>\n      <td>0.018657</td>\n      <td>0.479290</td>\n      <td>0.224852</td>\n      <td>0.242604</td>\n      <td>0.053254</td>\n      <td>169</td>\n      <td>134</td>\n      <td>1.261194</td>\n      <td>11.278107</td>\n      <td>0.120</td>\n      <td>0.231</td>\n      <td>0.649</td>\n    </tr>\n  </tbody>\n</table>\n</div>"
     },
     "execution_count": 113,
     "metadata": {},
     "output_type": "execute_result"
    }
   ],
   "source": [
    "df.head()"
   ],
   "metadata": {
    "collapsed": false,
    "pycharm": {
     "name": "#%%\n"
    }
   }
  },
  {
   "cell_type": "markdown",
   "source": [
    "## Vectorizing"
   ],
   "metadata": {
    "collapsed": false,
    "pycharm": {
     "name": "#%% md\n"
    }
   }
  },
  {
   "cell_type": "markdown",
   "source": [
    "### CountVectorizer"
   ],
   "metadata": {
    "collapsed": false,
    "pycharm": {
     "name": "#%% md\n"
    }
   }
  },
  {
   "cell_type": "code",
   "execution_count": null,
   "outputs": [],
   "source": [
    "import warnings\n",
    "import re\n",
    "from sklearn.feature_extraction.text import CountVectorizer\n",
    "\n",
    "def custom_tokenizer(text):\n",
    "    # Split the text into tokens using whitespace and punctuation as separators\n",
    "    tokens = re.findall(r'\\b\\w+\\b', text)\n",
    "\n",
    "    # Convert integers to strings\n",
    "    tokens = [str(token) for token in tokens]\n",
    "\n",
    "    return tokens\n",
    "\n",
    "# Suppress the warning\n",
    "warnings.filterwarnings(\"ignore\", category=UserWarning)\n",
    "\n",
    "count_vectorizer = CountVectorizer(tokenizer=custom_tokenizer, stop_words = \"english\")\n",
    "count_df = count_vectorizer.fit_transform(df[\"text\"])\n",
    "count_df"
   ],
   "metadata": {
    "collapsed": false,
    "pycharm": {
     "name": "#%%\n"
    }
   }
  },
  {
   "cell_type": "markdown",
   "source": [],
   "metadata": {
    "collapsed": false
   }
  },
  {
   "cell_type": "markdown",
   "source": [
    "### TfidfVectorizer"
   ],
   "metadata": {
    "collapsed": false,
    "pycharm": {
     "name": "#%% md\n"
    }
   }
  },
  {
   "cell_type": "code",
   "execution_count": null,
   "outputs": [],
   "source": [
    "from sklearn.feature_extraction.text import TfidfVectorizer\n",
    "\n",
    "tfidf_vectorizer = TfidfVectorizer(stop_words = \"english\", max_df=0.7)\n",
    "tfidf_df = tfidf_vectorizer.fit_transform(df[\"text\"])\n",
    "tfidf_df"
   ],
   "metadata": {
    "collapsed": false,
    "pycharm": {
     "name": "#%%\n"
    }
   }
  },
  {
   "cell_type": "code",
   "execution_count": null,
   "outputs": [],
   "source": [
    "count_df = pd.DataFrame(count_df.A, columns = count_vectorizer.get_feature_names_out())\n",
    "tfidf_df = pd.DataFrame(tfidf_df.A, columns = tfidf_vectorizer.get_feature_names_out())\n",
    "difference = set(count_df.columns) - set(tfidf_df.columns)\n",
    "print(difference)"
   ],
   "metadata": {
    "collapsed": false,
    "pycharm": {
     "name": "#%%\n"
    }
   }
  },
  {
   "cell_type": "code",
   "execution_count": null,
   "outputs": [],
   "source": [],
   "metadata": {
    "collapsed": false,
    "pycharm": {
     "name": "#%%\n"
    }
   }
  }
 ],
 "metadata": {
  "kernelspec": {
   "display_name": "Python 3",
   "language": "python",
   "name": "python3"
  },
  "language_info": {
   "codemirror_mode": {
    "name": "ipython",
    "version": 2
   },
   "file_extension": ".py",
   "mimetype": "text/x-python",
   "name": "python",
   "nbconvert_exporter": "python",
   "pygments_lexer": "ipython2",
   "version": "2.7.6"
  }
 },
 "nbformat": 4,
 "nbformat_minor": 0
}