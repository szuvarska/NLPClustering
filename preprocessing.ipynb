{
 "cells": [
  {
   "cell_type": "code",
   "execution_count": 147,
   "outputs": [],
   "source": [
    "import os\n",
    "import pandas as pd"
   ],
   "metadata": {
    "collapsed": false,
    "pycharm": {
     "name": "#%%\n"
    }
   }
  },
  {
   "cell_type": "markdown",
   "source": [
    "## Reading dataset"
   ],
   "metadata": {
    "collapsed": false,
    "pycharm": {
     "name": "#%% md\n"
    }
   }
  },
  {
   "cell_type": "code",
   "execution_count": 148,
   "metadata": {
    "collapsed": true
   },
   "outputs": [],
   "source": [
    "path = \"archive/20news-19997/20_newsgroups\"\n",
    "df = []\n",
    "\n",
    "for folder in os.listdir(path):\n",
    "    for file in os.listdir(f'{path}/{folder}'):\n",
    "        f = open(f'{path}/{folder}/{file}', 'rb')\n",
    "        df.append(f.read())"
   ]
  },
  {
   "cell_type": "code",
   "execution_count": 149,
   "outputs": [
    {
     "name": "stdout",
     "output_type": "stream",
     "text": [
      "<class 'pandas.core.frame.DataFrame'>\n",
      "RangeIndex: 19997 entries, 0 to 19996\n",
      "Data columns (total 1 columns):\n",
      " #   Column  Non-Null Count  Dtype \n",
      "---  ------  --------------  ----- \n",
      " 0   0       19997 non-null  object\n",
      "dtypes: object(1)\n",
      "memory usage: 156.4+ KB\n"
     ]
    }
   ],
   "source": [
    "df = pd.DataFrame(df)\n",
    "df.info()"
   ],
   "metadata": {
    "collapsed": false,
    "pycharm": {
     "name": "#%%\n"
    }
   }
  },
  {
   "cell_type": "code",
   "execution_count": 150,
   "outputs": [
    {
     "data": {
      "text/plain": "                                                   0\n0  b\"Newsgroups: sci.space\\nPath: cantaloupe.srv....\n1  b'Newsgroups: sci.space\\nPath: cantaloupe.srv....\n2  b\"Newsgroups: sci.space\\nPath: cantaloupe.srv....\n3  b'Newsgroups: sci.space\\nPath: cantaloupe.srv....\n4  b'Newsgroups: sci.space\\nPath: cantaloupe.srv....",
      "text/html": "<div>\n<style scoped>\n    .dataframe tbody tr th:only-of-type {\n        vertical-align: middle;\n    }\n\n    .dataframe tbody tr th {\n        vertical-align: top;\n    }\n\n    .dataframe thead th {\n        text-align: right;\n    }\n</style>\n<table border=\"1\" class=\"dataframe\">\n  <thead>\n    <tr style=\"text-align: right;\">\n      <th></th>\n      <th>0</th>\n    </tr>\n  </thead>\n  <tbody>\n    <tr>\n      <th>0</th>\n      <td>b\"Newsgroups: sci.space\\nPath: cantaloupe.srv....</td>\n    </tr>\n    <tr>\n      <th>1</th>\n      <td>b'Newsgroups: sci.space\\nPath: cantaloupe.srv....</td>\n    </tr>\n    <tr>\n      <th>2</th>\n      <td>b\"Newsgroups: sci.space\\nPath: cantaloupe.srv....</td>\n    </tr>\n    <tr>\n      <th>3</th>\n      <td>b'Newsgroups: sci.space\\nPath: cantaloupe.srv....</td>\n    </tr>\n    <tr>\n      <th>4</th>\n      <td>b'Newsgroups: sci.space\\nPath: cantaloupe.srv....</td>\n    </tr>\n  </tbody>\n</table>\n</div>"
     },
     "execution_count": 150,
     "metadata": {},
     "output_type": "execute_result"
    }
   ],
   "source": [
    "df.head()"
   ],
   "metadata": {
    "collapsed": false,
    "pycharm": {
     "name": "#%%\n"
    }
   }
  },
  {
   "cell_type": "code",
   "execution_count": 151,
   "outputs": [
    {
     "data": {
      "text/plain": "b\"Newsgroups: sci.space\\nPath: cantaloupe.srv.cs.cmu.edu!rochester!udel!bogus.sura.net!news-feed-1.peachnet.edu!gatech!swrinde!sdd.hp.com!ux1.cso.uiuc.edu!news.cso.uiuc.edu!uxa.cso.uiuc.edu!gfk39017\\nFrom: gfk39017@uxa.cso.uiuc.edu (George F. Krumins)\\nSubject: Re: space news from Feb 15 AW&ST\\nDate: Fri, 23 Apr 1993 20:16:24 GMT\\nMessage-ID: <C5yDnC.GwB@news.cso.uiuc.edu>\\nReferences: <C5ros0.uy@zoo.toronto.edu> <1993Apr23.155313.4220@dazixco.ingr.com>\\nSender: usenet@news.cso.uiuc.edu (Net Noise owner)\\nOrganization: University of Illinois at Urbana\\nLines: 23\\n\\njbreed@doink.b23b.ingr.com (James B. Reed) writes:\\n\\n>In article <C5ros0.uy@zoo.toronto.edu>, henry@zoo.toronto.edu (Henry Spencer) writes:\\n>|> [Pluto's] atmosphere will start to freeze out around 2010, and after about\\n>|> 2005 increasing areas of both Pluto and Charon will be in permanent\\n>|> shadow that will make imaging and geochemical mapping impossible.\\n\\nIt's my understanding that the freezing will start to occur because of the\\ngrowing distance of Pluto and Charon from the Sun, due to it's\\nelliptical orbit. It is not due to shadowing effects. \\n\\n>Where does the shadow come from?  There's nothing close enough to block\\n>sunlight from hitting them.  I wouldn't expect there to be anything block\\n>our view of them either.  What am I missing?\\n\\nPluto can shadow Charon, and vice-versa.\\n\\nGeorge Krumins\\n-- \\n--------------------------------------------------------------------------------\\n|  George Krumins                                                              |\\n|  gfk39017@uxa.cso.uiuc.edu                                                   |\\n|  Pufferfish Observatory                                                      |\\n\""
     },
     "execution_count": 151,
     "metadata": {},
     "output_type": "execute_result"
    }
   ],
   "source": [
    "df[0][0]"
   ],
   "metadata": {
    "collapsed": false,
    "pycharm": {
     "name": "#%%\n"
    }
   }
  },
  {
   "cell_type": "markdown",
   "source": [
    "## Converting bytes to string"
   ],
   "metadata": {
    "collapsed": false,
    "pycharm": {
     "name": "#%% md\n"
    }
   }
  },
  {
   "cell_type": "code",
   "execution_count": 152,
   "outputs": [],
   "source": [
    "def bytes_to_str(text):\n",
    "    return text.decode('utf-8', errors = 'ignore')\n",
    "df[0]=df[0].apply(bytes_to_str)"
   ],
   "metadata": {
    "collapsed": false,
    "pycharm": {
     "name": "#%%\n"
    }
   }
  },
  {
   "cell_type": "markdown",
   "source": [
    "## Removing headers"
   ],
   "metadata": {
    "collapsed": false,
    "pycharm": {
     "name": "#%% md\n"
    }
   }
  },
  {
   "cell_type": "code",
   "execution_count": 153,
   "outputs": [],
   "source": [
    "def remove_header(text):\n",
    "    split_text = text.split('\\n\\n', 1)\n",
    "    if len(split_text) > 1:\n",
    "        return split_text[1]\n",
    "    return text\n",
    "df[0] = df[0].apply(remove_header)"
   ],
   "metadata": {
    "collapsed": false,
    "pycharm": {
     "name": "#%%\n"
    }
   }
  },
  {
   "cell_type": "code",
   "execution_count": 154,
   "outputs": [
    {
     "data": {
      "text/plain": "'pbd@runyon.cim.cdc.com (Paul Dokas) writes:\\n\\n>I was reading Popular Science this morning and was surprised by an ad in\\n>the back.  I know that a lot of the ads in the back of PS are fringe\\n>science or questionablely legal, but this one really grabbed my attention.\\n>It was from a company name \"Personal Missle, Inc.\" or something like that.\\n\\nThe company was probably \"Public Missiles, Inc\" of Michigan.\\n\\n>Anyhow, the ad stated that they\\'d sell rockets that were up to 20\\' in length\\n>and engines of sizes \"F\" to \"M\".  They also said that some rockets will\\n>reach 50,000 feet.\\n\\nYup.\\n\\n>Now, aside from the obvious dangers to any amateur rocketeer using one\\n>of these beasts, isn\\'t this illegal?  I can\\'t imagine the FAA allowing\\n>people to shoot rockets up through the flight levels of passenger planes.\\n>Not to even mention the problem of locating a rocket when it comes down.\\n\\nNope, it\\'s not illegal. It is, however, closely regulated. In order to \\npurchase and use the big rocket motors required, it is necessary to be\\none of the following:\\na) An employee of a government agency.\\nb) An employee or student at a university doing research involving rockets.\\nc) A member or representative of an educational organization involved in\\nresearch or other uses of rockets. There are two such organizations: \\nThe Tripoli Rocketry Association and the National Association of Rocketry.\\nMembers of either organization must demonstrate proficiency in construction\\nand flight before they are allowed to purchase large motors on their own.\\n\\nThe FAA will issue a waiver of its regulations, upon request, to any \\norganization which can persuade them it has taken adequate precautions \\nto avoid conflicts with aircraft. The usual stipulations are:\\n- Only operation up to a specified ceiling is allowed. Depending on the\\nlocation, this ceiling may be from 5000 to 50000 feet AGL. \\n- The operator of the rocket is responsible for avoiding any aircraft\\nwithin the operating radius around the launch site.\\n- Flight into clouds or beyond visual range in haze is expressly prohibited.\\n- The FAA will provide a NOTAM informing other users of the airspace that\\nunmanned rocket operations are taking place at the specified place and time.\\n\\nMost of the launches that are held (and there are dozens of them every year)\\nare held in areas where air traffic is relatively light, such as over the\\nwestern deserts (the Black Rock Desert north of Reno is particularly popular\\nsince it is 25 x 150 miles of *nothing to hit* on the ground).\\n\\nThe two rocketry associations test and approve motors for their members\\'\\nuse, to insure safety. Depending on motor size, the launcher setback is\\nfrom 50 to 500 or more feet. \\n\\nBy the way, rockets under 1 lb and powered by an \"F\" motor are exempt from\\nmost Federal regulations on unmanned rockets anyway. See FAR 101, Subpart\\nC, for details.\\n\\nAs for recovery...although the higher altitude rockets can reach up to\\n50,000 feet, most of them only get to 2,000 to 5,000 feet. The typical\\nrocket is 2 to 6 inches in diameter, and carries a 3 to 6 foot parachute,\\nor multiple parachutes, depending on the payload. Many rockets also carry\\neither a small transmitter or an audio sounder--particularly at launches\\nin the eastern US, where there are more obstructions.\\n\\nCamera, telemetry transmitter, and video payloads are becoming quite common.\\n\\n>And no, I\\'m not going to even think of buying one.  I\\'m not that crazy.\\n\\nWhy not? It\\'s a lot of fun...check out the traffic on rec.models.rockets\\nfor information about the model (3 lb and under) and high power (everything\\nbigger) rocket hobbies. As with all dangerous activities, the key is to\\npractice safety. I\\'ve been flying consumer rockets ranging up to 4-5 lbs\\ntakeoff weight for 27 years, and still have all my extremities intact.\\n\\n>-Paul \"mine\\'ll do 50,000 feet and carries 50 pounds of dynamite\" Dokas\\n\\nThat\\'s another thing. NO EXPLOSIVE WARHEADS OF ANY KIND ARE ALLOWED ON THESE\\nROCKETS. NONE! Please forgive me for shouting, but that\\'s one of the biggest\\nmisconceptions people have about our hobby. \\n\\n>/*            Just remember, you *WILL* die someday.             */\\nTrue. But it will not be related to the rocket hobby, unless I get \\nhit while crossing a road with a rocket in my hand. \\n-- \\nMark Johnson                          USnail: NCR Peripheral Products Division\\nE-mail:  Mark.Johnson@WichitaKS.NCR.COM       3718 N. Rock Rd.\\nVoice: (316) 636-8189 [V+ 654-8189]           Wichita, KS  67226\\n[Non-business email: 76670.1775@compuserve.com]\\n'"
     },
     "execution_count": 154,
     "metadata": {},
     "output_type": "execute_result"
    }
   ],
   "source": [
    "df[0][127]"
   ],
   "metadata": {
    "collapsed": false,
    "pycharm": {
     "name": "#%%\n"
    }
   }
  },
  {
   "cell_type": "markdown",
   "source": [
    "## Dividing into build and valid datasets"
   ],
   "metadata": {
    "collapsed": false,
    "pycharm": {
     "name": "#%% md\n"
    }
   }
  },
  {
   "cell_type": "code",
   "execution_count": 155,
   "outputs": [
    {
     "name": "stdout",
     "output_type": "stream",
     "text": [
      "(19997, 1)\n",
      "X_build shape: (13997, 1)\n",
      "X_val shape: (6000, 1)\n"
     ]
    }
   ],
   "source": [
    "from sklearn.model_selection import train_test_split\n",
    "\n",
    "print(df.shape)\n",
    "\n",
    "X_build, X_val = train_test_split(\n",
    "    df,\n",
    "    test_size=0.3, random_state=213)\n",
    "\n",
    "print(\"X_build shape: {}\".format(X_build.shape))\n",
    "print(\"X_val shape: {}\".format(X_val.shape))"
   ],
   "metadata": {
    "collapsed": false,
    "pycharm": {
     "name": "#%%\n"
    }
   }
  },
  {
   "cell_type": "code",
   "execution_count": 156,
   "outputs": [],
   "source": [
    "original_df = df.copy()\n",
    "df = X_build\n",
    "df[0] = df[0].astype(str)"
   ],
   "metadata": {
    "collapsed": false,
    "pycharm": {
     "name": "#%%\n"
    }
   }
  },
  {
   "cell_type": "code",
   "execution_count": 157,
   "outputs": [
    {
     "name": "stdout",
     "output_type": "stream",
     "text": [
      "<class 'pandas.core.frame.DataFrame'>\n",
      "Int64Index: 13997 entries, 12727 to 19755\n",
      "Data columns (total 1 columns):\n",
      " #   Column  Non-Null Count  Dtype \n",
      "---  ------  --------------  ----- \n",
      " 0   text    13997 non-null  object\n",
      "dtypes: object(1)\n",
      "memory usage: 218.7+ KB\n"
     ]
    }
   ],
   "source": [
    "df.columns = [\"text\"]\n",
    "df.info()"
   ],
   "metadata": {
    "collapsed": false,
    "pycharm": {
     "name": "#%%\n"
    }
   }
  },
  {
   "cell_type": "markdown",
   "source": [
    "### Counting sentences"
   ],
   "metadata": {
    "collapsed": false,
    "pycharm": {
     "name": "#%% md\n"
    }
   }
  },
  {
   "cell_type": "code",
   "execution_count": 158,
   "outputs": [],
   "source": [
    "from nltk.tokenize import sent_tokenize\n",
    "df[\"sentences\"]=df[\"text\"].apply(sent_tokenize).apply(len)"
   ],
   "metadata": {
    "collapsed": false,
    "pycharm": {
     "name": "#%%\n"
    }
   }
  },
  {
   "cell_type": "markdown",
   "source": [
    "### Counting question and exclamation marks"
   ],
   "metadata": {
    "collapsed": false,
    "pycharm": {
     "name": "#%% md\n"
    }
   }
  },
  {
   "cell_type": "code",
   "execution_count": 159,
   "outputs": [],
   "source": [
    "df[\"question_marks\"] = df[\"text\"].str.count(\"\\?\")\n",
    "df[\"exclamation_marks\"] = df[\"text\"].str.count(\"\\!\")"
   ],
   "metadata": {
    "collapsed": false,
    "pycharm": {
     "name": "#%%\n"
    }
   }
  },
  {
   "cell_type": "markdown",
   "source": [
    "### Counting links"
   ],
   "metadata": {
    "collapsed": false,
    "pycharm": {
     "name": "#%% md\n"
    }
   }
  },
  {
   "cell_type": "code",
   "execution_count": 160,
   "outputs": [],
   "source": [
    "df[\"links\"] = df[\"text\"].str.count(r'https?://\\S+|www\\.\\S+')"
   ],
   "metadata": {
    "collapsed": false,
    "pycharm": {
     "name": "#%%\n"
    }
   }
  },
  {
   "cell_type": "markdown",
   "source": [
    "### Counting e-mail addresses"
   ],
   "metadata": {
    "collapsed": false,
    "pycharm": {
     "name": "#%% md\n"
    }
   }
  },
  {
   "cell_type": "code",
   "execution_count": 161,
   "outputs": [],
   "source": [
    "df[\"emails\"] = df[\"text\"].str.count(r'\\b[A-Za-z0-9._%+-]+@[A-Za-z0-9.-]+\\.[A-Za-z]{2,}\\b')"
   ],
   "metadata": {
    "collapsed": false,
    "pycharm": {
     "name": "#%%\n"
    }
   }
  },
  {
   "cell_type": "markdown",
   "source": [
    "## Cleaning"
   ],
   "metadata": {
    "collapsed": false,
    "pycharm": {
     "name": "#%% md\n"
    }
   }
  },
  {
   "cell_type": "code",
   "execution_count": 162,
   "outputs": [
    {
     "data": {
      "text/plain": "                                                    text  sentences  \\\n12727  In article Robert Castro writes Would anyone o...         14   \n12958  In article Jerry Hartzler CATS writes In artic...          5   \n17116   try to unsubscribe from this group by sending...          4   \n6186   In article John Eaton writes Thats one problem...         13   \n6782   The key question is whether nonClipper encrypt...         16   \n\n       question_marks  exclamation_marks  links  emails  \n12727               1                  8      0       3  \n12958               0                  0      0       5  \n17116               1                  0      0       1  \n6186                3                  0      0       2  \n6782                2                  0      0       1  ",
      "text/html": "<div>\n<style scoped>\n    .dataframe tbody tr th:only-of-type {\n        vertical-align: middle;\n    }\n\n    .dataframe tbody tr th {\n        vertical-align: top;\n    }\n\n    .dataframe thead th {\n        text-align: right;\n    }\n</style>\n<table border=\"1\" class=\"dataframe\">\n  <thead>\n    <tr style=\"text-align: right;\">\n      <th></th>\n      <th>text</th>\n      <th>sentences</th>\n      <th>question_marks</th>\n      <th>exclamation_marks</th>\n      <th>links</th>\n      <th>emails</th>\n    </tr>\n  </thead>\n  <tbody>\n    <tr>\n      <th>12727</th>\n      <td>In article Robert Castro writes Would anyone o...</td>\n      <td>14</td>\n      <td>1</td>\n      <td>8</td>\n      <td>0</td>\n      <td>3</td>\n    </tr>\n    <tr>\n      <th>12958</th>\n      <td>In article Jerry Hartzler CATS writes In artic...</td>\n      <td>5</td>\n      <td>0</td>\n      <td>0</td>\n      <td>0</td>\n      <td>5</td>\n    </tr>\n    <tr>\n      <th>17116</th>\n      <td>try to unsubscribe from this group by sending...</td>\n      <td>4</td>\n      <td>1</td>\n      <td>0</td>\n      <td>0</td>\n      <td>1</td>\n    </tr>\n    <tr>\n      <th>6186</th>\n      <td>In article John Eaton writes Thats one problem...</td>\n      <td>13</td>\n      <td>3</td>\n      <td>0</td>\n      <td>0</td>\n      <td>2</td>\n    </tr>\n    <tr>\n      <th>6782</th>\n      <td>The key question is whether nonClipper encrypt...</td>\n      <td>16</td>\n      <td>2</td>\n      <td>0</td>\n      <td>0</td>\n      <td>1</td>\n    </tr>\n  </tbody>\n</table>\n</div>"
     },
     "execution_count": 162,
     "metadata": {},
     "output_type": "execute_result"
    }
   ],
   "source": [
    "import string\n",
    "\n",
    "def clean(df):\n",
    "    df[\"text\"] = df['text'].str.replace('https?://\\S+|www\\.\\S+', '', regex = True) # links\n",
    "    df[\"text\"] = df[\"text\"].str.replace(r'\\b[A-Za-z0-9._%+-]+@[A-Za-z0-9.-]+\\.[A-Za-z]{2,}\\b', '', regex = True) # e-mail adresses\n",
    "    df[\"text\"] = df['text'].str.replace('<.*?>+', '', regex = True) # tags\n",
    "    df[\"text\"] = df['text'].str.replace('\\[.*?\\]', '', regex = True) # square brackets\n",
    "    df[\"text\"] = df['text'].str.replace('[%s]' % re.escape(string.punctuation), '', regex = True) # puntuation marks\n",
    "    df[\"text\"] = df['text'].str.replace('\\n', ' ', regex = True) # newline character\n",
    "    df[\"text\"] = df['text'].str.replace(\"\\\\W\",\" \", regex = True) # non-alphanumeric characters\n",
    "    df[\"text\"] = df['text'].str.replace('\\w*\\d\\w*', '', regex = True) # numeric sequences\n",
    "    df[\"text\"] = df['text'].str.replace(r'\\b\\w\\b', '', regex = True) # one-letter words\n",
    "    df[\"text\"] = df['text'].str.replace(r'\\s+', ' ', regex = True) # empty spaces\n",
    "    return df\n",
    "\n",
    "df = clean(df)\n",
    "df.head()"
   ],
   "metadata": {
    "collapsed": false,
    "pycharm": {
     "name": "#%%\n"
    }
   }
  },
  {
   "cell_type": "markdown",
   "source": [
    "## Converting to lowercase"
   ],
   "metadata": {
    "collapsed": false,
    "pycharm": {
     "name": "#%% md\n"
    }
   }
  },
  {
   "cell_type": "markdown",
   "source": [
    "### Counting capital letters"
   ],
   "metadata": {
    "collapsed": false
   }
  },
  {
   "cell_type": "code",
   "execution_count": 163,
   "outputs": [],
   "source": [
    "df[\"capital_letters\"] = df[\"text\"].str.count(r'[A-Z]')\n",
    "df[\"text\"] = df['text'].str.lower()"
   ],
   "metadata": {
    "collapsed": false,
    "pycharm": {
     "name": "#%%\n"
    }
   }
  },
  {
   "cell_type": "code",
   "execution_count": 164,
   "outputs": [
    {
     "data": {
      "text/plain": "                                                    text  sentences  \\\n12727  in article robert castro writes would anyone o...         14   \n12958  in article jerry hartzler cats writes in artic...          5   \n17116   try to unsubscribe from this group by sending...          4   \n6186   in article john eaton writes thats one problem...         13   \n6782   the key question is whether nonclipper encrypt...         16   \n\n       question_marks  exclamation_marks  links  emails  capital_letters  \n12727               1                  8      0       3               64  \n12958               0                  0      0       5               24  \n17116               1                  0      0       1               27  \n6186                3                  0      0       2               20  \n6782                2                  0      0       1               30  ",
      "text/html": "<div>\n<style scoped>\n    .dataframe tbody tr th:only-of-type {\n        vertical-align: middle;\n    }\n\n    .dataframe tbody tr th {\n        vertical-align: top;\n    }\n\n    .dataframe thead th {\n        text-align: right;\n    }\n</style>\n<table border=\"1\" class=\"dataframe\">\n  <thead>\n    <tr style=\"text-align: right;\">\n      <th></th>\n      <th>text</th>\n      <th>sentences</th>\n      <th>question_marks</th>\n      <th>exclamation_marks</th>\n      <th>links</th>\n      <th>emails</th>\n      <th>capital_letters</th>\n    </tr>\n  </thead>\n  <tbody>\n    <tr>\n      <th>12727</th>\n      <td>in article robert castro writes would anyone o...</td>\n      <td>14</td>\n      <td>1</td>\n      <td>8</td>\n      <td>0</td>\n      <td>3</td>\n      <td>64</td>\n    </tr>\n    <tr>\n      <th>12958</th>\n      <td>in article jerry hartzler cats writes in artic...</td>\n      <td>5</td>\n      <td>0</td>\n      <td>0</td>\n      <td>0</td>\n      <td>5</td>\n      <td>24</td>\n    </tr>\n    <tr>\n      <th>17116</th>\n      <td>try to unsubscribe from this group by sending...</td>\n      <td>4</td>\n      <td>1</td>\n      <td>0</td>\n      <td>0</td>\n      <td>1</td>\n      <td>27</td>\n    </tr>\n    <tr>\n      <th>6186</th>\n      <td>in article john eaton writes thats one problem...</td>\n      <td>13</td>\n      <td>3</td>\n      <td>0</td>\n      <td>0</td>\n      <td>2</td>\n      <td>20</td>\n    </tr>\n    <tr>\n      <th>6782</th>\n      <td>the key question is whether nonclipper encrypt...</td>\n      <td>16</td>\n      <td>2</td>\n      <td>0</td>\n      <td>0</td>\n      <td>1</td>\n      <td>30</td>\n    </tr>\n  </tbody>\n</table>\n</div>"
     },
     "execution_count": 164,
     "metadata": {},
     "output_type": "execute_result"
    }
   ],
   "source": [
    "df.head()"
   ],
   "metadata": {
    "collapsed": false,
    "pycharm": {
     "name": "#%%\n"
    }
   }
  },
  {
   "cell_type": "markdown",
   "source": [
    "### CountVectorizer"
   ],
   "metadata": {
    "collapsed": false,
    "pycharm": {
     "name": "#%% md\n"
    }
   }
  },
  {
   "cell_type": "code",
   "execution_count": 167,
   "outputs": [
    {
     "data": {
      "text/plain": "<13997x90434 sparse matrix of type '<class 'numpy.int64'>'\n\twith 1177488 stored elements in Compressed Sparse Row format>"
     },
     "execution_count": 167,
     "metadata": {},
     "output_type": "execute_result"
    }
   ],
   "source": [
    "import warnings\n",
    "import re\n",
    "from sklearn.feature_extraction.text import CountVectorizer\n",
    "\n",
    "def custom_tokenizer(text):\n",
    "    # Split the text into tokens using whitespace and punctuation as separators\n",
    "    tokens = re.findall(r'\\b\\w+\\b', text)\n",
    "\n",
    "    # Convert integers to strings\n",
    "    tokens = [str(token) for token in tokens]\n",
    "\n",
    "    return tokens\n",
    "\n",
    "# Suppress the warning\n",
    "warnings.filterwarnings(\"ignore\", category=UserWarning)\n",
    "\n",
    "count_vectorizer = CountVectorizer(tokenizer=custom_tokenizer, stop_words = \"english\")\n",
    "count_df = count_vectorizer.fit_transform(df[\"text\"])\n",
    "count_df"
   ],
   "metadata": {
    "collapsed": false,
    "pycharm": {
     "name": "#%%\n"
    }
   }
  },
  {
   "cell_type": "markdown",
   "source": [],
   "metadata": {
    "collapsed": false
   }
  },
  {
   "cell_type": "markdown",
   "source": [
    "### TfidfVectorizer"
   ],
   "metadata": {
    "collapsed": false,
    "pycharm": {
     "name": "#%% md\n"
    }
   }
  },
  {
   "cell_type": "code",
   "execution_count": 168,
   "outputs": [
    {
     "data": {
      "text/plain": "<13997x90434 sparse matrix of type '<class 'numpy.float64'>'\n\twith 1177488 stored elements in Compressed Sparse Row format>"
     },
     "execution_count": 168,
     "metadata": {},
     "output_type": "execute_result"
    }
   ],
   "source": [
    "from sklearn.feature_extraction.text import TfidfVectorizer\n",
    "\n",
    "tfidf_vectorizer = TfidfVectorizer(stop_words = \"english\", max_df=0.7)\n",
    "tfidf_df = tfidf_vectorizer.fit_transform(df[\"text\"])\n",
    "tfidf_df"
   ],
   "metadata": {
    "collapsed": false,
    "pycharm": {
     "name": "#%%\n"
    }
   }
  },
  {
   "cell_type": "code",
   "execution_count": 169,
   "outputs": [
    {
     "name": "stdout",
     "output_type": "stream",
     "text": [
      "set()\n"
     ]
    }
   ],
   "source": [
    "count_df = pd.DataFrame(count_df.A, columns = count_vectorizer.get_feature_names_out())\n",
    "tfidf_df = pd.DataFrame(tfidf_df.A, columns = tfidf_vectorizer.get_feature_names_out())\n",
    "difference = set(count_df.columns) - set(tfidf_df.columns)\n",
    "print(difference)"
   ],
   "metadata": {
    "collapsed": false,
    "pycharm": {
     "name": "#%%\n"
    }
   }
  },
  {
   "cell_type": "code",
   "execution_count": null,
   "outputs": [],
   "source": [],
   "metadata": {
    "collapsed": false,
    "pycharm": {
     "name": "#%%\n"
    }
   }
  }
 ],
 "metadata": {
  "kernelspec": {
   "display_name": "Python 3",
   "language": "python",
   "name": "python3"
  },
  "language_info": {
   "codemirror_mode": {
    "name": "ipython",
    "version": 2
   },
   "file_extension": ".py",
   "mimetype": "text/x-python",
   "name": "python",
   "nbconvert_exporter": "python",
   "pygments_lexer": "ipython2",
   "version": "2.7.6"
  }
 },
 "nbformat": 4,
 "nbformat_minor": 0
}